{
 "cells": [
  {
   "cell_type": "markdown",
   "metadata": {},
   "source": [
    "# Problem 5\n",
    "\n",
    "**Souza (1999) considers a number of hierarchical models to describe the nutritional pattern of pregnant women.**\n",
    "**One of the models adopted was a hierarchical regression model where**\n",
    "$$y_{i,j} \\sim N(\\alpha_i + \\beta_i t_{i,j}, \\sigma^2)$$\n",
    "$$(\\alpha_i, \\beta_i)^T|\\alpha, \\beta \\sim MVN_2 ((\\alpha, \\beta)^T, diag(\\tau_\\alpha^2, \\tau_\\beta^2))$$\n",
    "$$(\\alpha, \\beta)^T \\sim MVN_2 ((0,0)^T, diag(P_\\alpha^2, P_\\beta^2))$$\n",
    "\n",
    "\n",
    "**Here $y_{i,j}$ and $t_{i,j}$ are the jth weight measurement and visit time of the ith woman with**\n",
    "**$j = 1 : n_i$ and $i = 1 : I$ for $I = 68$ pregnant women.**\n",
    "**Here $n = \\sum_{i=1}^I n_i}=415 (not 427).**\n",
    "\n",
    "**For unknown scale parameters, we assume a priori independence and place a Gamma prior,**\n",
    "- $ \\sigma^2 \\sim inv.gamma(a_\\sigma, b_\\sigma)$\n",
    "- $ \\tau_\\alpha^2 \\sim inv.gamma(a_\\alpha, b_\\alpha)$\n",
    "- $ \\tau_\\beta^2 \\sim inv.gamma(a_\\beta, b_\\beta)$\n"
   ]
  },
  {
   "cell_type": "markdown",
   "metadata": {},
   "source": [
    "**(a) Find the joint posterior distribution of all random parameters (up to proportionality.)**\n",
    "\n",
    "**(b) Find the full conditional distributions of $\\alpha, \\beta, \\tau_\\alpha, \\tau_\\beta, \\sigma^{-2}, \\alpha_i, \\beta_i$.**\n",
    "\n",
    "(a),(b)-> please see the note attached.\n",
    "\n",
    "\n",
    "**(c) Describe a Gibbs sampling algorithm to obtain samples from the joint posterior distribution.**\n",
    "\n",
    "\n",
    "**(d) Specify values of the fixed hyperparameters, and justify your choices.**\n",
    "\n",
    "**(e) Implement your sampling algorithm in part (c) and summarize the posterior distribution**\n",
    "**using point estimates and interval estimates of the parameters. Provide interpretations**\n",
    "**of the inference in layman’s word.**\n"
   ]
  }
 ],
 "metadata": {
  "language_info": {
   "name": "python"
  },
  "orig_nbformat": 4
 },
 "nbformat": 4,
 "nbformat_minor": 2
}
